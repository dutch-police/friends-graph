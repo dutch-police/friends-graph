{
 "cells": [
  {
   "cell_type": "markdown",
   "metadata": {
    "collapsed": true
   },
   "source": [
    "# Центральность по посредничеству."
   ]
  },
  {
   "cell_type": "markdown",
   "metadata": {},
   "source": [
    "## Загрузка графа друзей через VK API"
   ]
  },
  {
   "cell_type": "code",
   "execution_count": 89,
   "metadata": {},
   "outputs": [],
   "source": [
    "# Текущий каталог где находятся файлы\n",
    "FILES_DIR = \"C:\\\\Projects\\\\friends-graph\"\n",
    "\n",
    "# Сначала устанавливаем библиотеки для работы с графами, vk api и загрузкой файлов в yaml\n",
    "import sys\n",
    "import os\n",
    "\n",
    "REQ_PATH = os.path.join(FILES_DIR, \"requirements.txt\")\n",
    "!{sys.executable} -m pip install -r $REQ_PATH"
   ]
  },
  {
   "cell_type": "code",
   "execution_count": 78,
   "metadata": {},
   "outputs": [],
   "source": [
    "# Может быть ошибка: что библиотека PyYAML уже установлена"
   ]
  },
  {
   "cell_type": "code",
   "execution_count": 79,
   "metadata": {},
   "outputs": [],
   "source": [
    "import vk_api\n",
    "import networkx as nx  # библиотека графов \n",
    "\n",
    "MAX_DEEP = 5  # Максимальная глубина графа\n",
    "MAX_FRIENDS = 30 # Максимальное число друзей которое может обработать vk_api для данного узла\n",
    "VK_LOGIN = 'kirainluck@gmail.com'\n",
    "VK_TOKEN = 'ce373d45c3f69d93022b12d3e9af02916e22becd049aaeeb40de1c19e7a65a3e0e58945b1d547beab9e0b'\n",
    "VK_IDS = [\n",
    "    559640345, 29759351, 120435774, 78517271, 55564167,\n",
    "    202514864, 79818398, 18214699, 25689500, 322913600,\n",
    "    32418429, 32784038, 55355150, 65817487, 76637395,\n",
    "    31710423, 557916962, 44907648\n",
    "]\n",
    "\n",
    "GRAPH_FILENAME = os.path.join(FILES_DIR, 'friends_graph_full.yaml')"
   ]
  },
  {
   "cell_type": "code",
   "execution_count": 80,
   "metadata": {},
   "outputs": [],
   "source": [
    "def fill_graph(vk, graph, id, deep=1):\n",
    "    \"\"\"\n",
    "    Функция загрузки графа\n",
    "    \n",
    "    \"\"\"\n",
    "    max_cnt = MAX_FRIENDS\n",
    "    # обычно все друзья на первом уровне\n",
    "    if deep == 1:\n",
    "        max_cnt = 500\n",
    "    try:\n",
    "        response = vk.friends.get(user_id=id, count=max_cnt)\n",
    "    except vk_api.exceptions.ApiError as e:\n",
    "        print(f\"VK api error on id {id} and deep {deep}\\n {e}\")\n",
    "        return\n",
    "\n",
    "    fr_in_lst = False\n",
    "    for fr_id in response['items']:\n",
    "        graph.add_edge(id, fr_id)\n",
    "        if fr_id in VK_IDS:\n",
    "            fr_in_lst = True\n",
    "    if (not fr_in_lst) and (deep < MAX_DEEP):\n",
    "        deep += 1\n",
    "        for fr_id in response['items']:\n",
    "            fill_graph(vk, graph, fr_id, deep)"
   ]
  },
  {
   "cell_type": "code",
   "execution_count": 81,
   "metadata": {},
   "outputs": [],
   "source": [
    "# Загружаем граф рекурсивно с максимальной глубиной MAX_DEEP"
   ]
  },
  {
   "cell_type": "code",
   "execution_count": 82,
   "metadata": {},
   "outputs": [],
   "source": [
    "friends_graph = None\n",
    "\n",
    "if not os.path.exists(GRAPH_FILENAME):\n",
    "    vk_session = vk_api.VkApi(login=VK_LOGIN, token=VK_TOKEN)\n",
    "    vk = vk_session.get_api()\n",
    "    friends_graph = nx.Graph()\n",
    "    for id in VK_IDS:\n",
    "        fill_graph(vk, friends_graph, id)\n",
    "        \n",
    "    # Записываем результат в файл\n",
    "    nx.readwrite.nx_yaml.write_yaml(friends_graph, GRAPH_FILENAME)\n",
    "else:\n",
    "    # Загружаем граф из файла\n",
    "    friends_graph = nx.readwrite.nx_yaml.read_yaml(GRAPH_FILENAME)"
   ]
  },
  {
   "cell_type": "code",
   "execution_count": 91,
   "metadata": {},
   "outputs": [
    {
     "name": "stdout",
     "output_type": "stream",
     "text": [
      "Number of nodes: 85758\n"
     ]
    }
   ],
   "source": [
    "print(f\"Number of nodes: {friends_graph.number_of_nodes()}\") # долго считает"
   ]
  },
  {
   "cell_type": "markdown",
   "metadata": {},
   "source": [
    "## Вычисление центральности по посредничеству"
   ]
  },
  {
   "cell_type": "code",
   "execution_count": 92,
   "metadata": {},
   "outputs": [
    {
     "data": {
      "text/plain": [
       "{18214699: 0.0012710629114378983,\n",
       " 25689500: 4.834008558424208e-05,\n",
       " 29759351: 0.0007197072665391756,\n",
       " 32418429: 0.0,\n",
       " 32784038: 0.0,\n",
       " 55355150: 0.0,\n",
       " 55564167: 0.0018071174348656615,\n",
       " 78517271: 0.0011774020744635978,\n",
       " 79818398: 0.0005252959583475647,\n",
       " 120435774: 0.002440480383129057,\n",
       " 202514864: 0.002597780659422589,\n",
       " 322913600: 0.0,\n",
       " 559640345: 2.8504978645905976e-05}"
      ]
     },
     "execution_count": 92,
     "metadata": {},
     "output_type": "execute_result"
    }
   ],
   "source": [
    "between_cent = {key:value for (key, value) in nx.betweenness_centrality(friends_graph, k=10).items() if key in VK_IDS}\n",
    "between_cent"
   ]
  },
  {
   "cell_type": "code",
   "execution_count": 93,
   "metadata": {},
   "outputs": [],
   "source": [
    "import operator\n",
    "\n",
    "between_cent_id = max(between_cent.items(), key=operator.itemgetter(1))"
   ]
  },
  {
   "cell_type": "code",
   "execution_count": 94,
   "metadata": {},
   "outputs": [
    {
     "data": {
      "text/plain": [
       "(202514864, 0.002597780659422589)"
      ]
     },
     "execution_count": 94,
     "metadata": {},
     "output_type": "execute_result"
    }
   ],
   "source": [
    "between_cent_id # id и значение центральности"
   ]
  },
  {
   "cell_type": "code",
   "execution_count": null,
   "metadata": {},
   "outputs": [],
   "source": [
    "# Центральный по посредничеству - Артем Осин"
   ]
  },
  {
   "cell_type": "code",
   "execution_count": null,
   "metadata": {},
   "outputs": [],
   "source": []
  },
  {
   "cell_type": "code",
   "execution_count": null,
   "metadata": {},
   "outputs": [],
   "source": []
  }
 ],
 "metadata": {
  "kernelspec": {
   "display_name": "Python 3",
   "language": "python",
   "name": "python3"
  },
  "language_info": {
   "codemirror_mode": {
    "name": "ipython",
    "version": 3
   },
   "file_extension": ".py",
   "mimetype": "text/x-python",
   "name": "python",
   "nbconvert_exporter": "python",
   "pygments_lexer": "ipython3",
   "version": "3.7.3"
  }
 },
 "nbformat": 4,
 "nbformat_minor": 1
}
